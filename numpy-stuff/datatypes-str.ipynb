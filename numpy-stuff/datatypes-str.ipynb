{
 "cells": [
  {
   "cell_type": "code",
   "execution_count": 1,
   "id": "biblical-thumbnail",
   "metadata": {},
   "outputs": [],
   "source": [
    "import numpy as np"
   ]
  },
  {
   "cell_type": "code",
   "execution_count": 2,
   "id": "starting-sword",
   "metadata": {},
   "outputs": [],
   "source": [
    "names = np.array([\"lucas\", \"james\", \"dominic\"], dtype=str)"
   ]
  },
  {
   "cell_type": "code",
   "execution_count": 3,
   "id": "humanitarian-canyon",
   "metadata": {},
   "outputs": [
    {
     "data": {
      "text/plain": [
       "array(['lucas', 'james', 'dominic'], dtype='<U7')"
      ]
     },
     "execution_count": 3,
     "metadata": {},
     "output_type": "execute_result"
    }
   ],
   "source": [
    "names"
   ]
  },
  {
   "cell_type": "code",
   "execution_count": 4,
   "id": "fiscal-geography",
   "metadata": {},
   "outputs": [],
   "source": [
    "# https://www.notion.so/skinetics/Installing-Numpy-Guide-c593cd18554d428087352306c3bf2c1f#6288137e90a74af18a69013e1067afeb"
   ]
  },
  {
   "cell_type": "code",
   "execution_count": 5,
   "id": "parliamentary-airfare",
   "metadata": {},
   "outputs": [
    {
     "data": {
      "text/plain": [
       "28"
      ]
     },
     "execution_count": 5,
     "metadata": {},
     "output_type": "execute_result"
    }
   ],
   "source": [
    "names.itemsize"
   ]
  },
  {
   "cell_type": "code",
   "execution_count": 6,
   "id": "approved-istanbul",
   "metadata": {},
   "outputs": [],
   "source": [
    "more_names = np.array([\"yerry\", \"andre\"])"
   ]
  },
  {
   "cell_type": "code",
   "execution_count": 7,
   "id": "contemporary-anthony",
   "metadata": {},
   "outputs": [
    {
     "data": {
      "text/plain": [
       "array(['lucas', 'james', 'dominic', 'yerry', 'andre'], dtype='<U7')"
      ]
     },
     "execution_count": 7,
     "metadata": {},
     "output_type": "execute_result"
    }
   ],
   "source": [
    "np.concatenate((names, more_names))"
   ]
  },
  {
   "cell_type": "code",
   "execution_count": null,
   "id": "cloudy-patient",
   "metadata": {},
   "outputs": [],
   "source": []
  }
 ],
 "metadata": {
  "kernelspec": {
   "display_name": "Python 3",
   "language": "python",
   "name": "python3"
  },
  "language_info": {
   "codemirror_mode": {
    "name": "ipython",
    "version": 3
   },
   "file_extension": ".py",
   "mimetype": "text/x-python",
   "name": "python",
   "nbconvert_exporter": "python",
   "pygments_lexer": "ipython3",
   "version": "3.8.5"
  }
 },
 "nbformat": 4,
 "nbformat_minor": 5
}
